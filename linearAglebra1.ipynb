{
 "cells": [
  {
   "cell_type": "markdown",
   "id": "67427be1-e1ff-4f30-845d-014c52c1efe7",
   "metadata": {},
   "source": [
    "# 1. Scalars, Vectors, Matrices, and Tensors\n"
   ]
  },
  {
   "cell_type": "markdown",
   "id": "574c110b-58be-410c-b470-3b387f77e316",
   "metadata": {},
   "source": [
    "Scalar: A scalar is a single real or complex number, often denoted as lowercase letters like a,b,or c.In machine learning, scalars often represent individual features or results of computations.\n",
    "\n",
    "Vector: A vector is a 1-dimensional array of numbers, represented in column form. Vectors are commonly denoted by lowercase bold letters, e.g., v. Vectors are useful in representing data points or feature sets.\n",
    "\n",
    "Matrix: A matrix is a 2-dimensional array of numbers organized in rows and columns, typically represented by uppercase bold letters, e.g., A. Matrices represent data, transformations, and relationships in machine learning.\n",
    "\n",
    "Tensor: A tensor is a generalization of scalars, vectors, and matrices to multiple dimensions. For example, an image could be represented as a 3D tensor (width, height, color channels)."
   ]
  },
  {
   "cell_type": "code",
   "execution_count": 3,
   "id": "a3782ff2-f2ac-43e3-8be1-ea68fc7c72ef",
   "metadata": {},
   "outputs": [
    {
     "name": "stdout",
     "output_type": "stream",
     "text": [
      "Scalar: 5\n",
      "Vector: [1 2 3]\n",
      "Matrix: [[ 1  2]\n",
      " [67 98]]\n",
      "Tensor: [[[ 1  2  3]\n",
      "  [13 14 15]]\n",
      "\n",
      " [[ 4  5  6]\n",
      "  [17 18 19]]]\n"
     ]
    }
   ],
   "source": [
    "import numpy as np\n",
    "\n",
    "#Scalar\n",
    "scalar = 5\n",
    "print('Scalar:',scalar)\n",
    "\n",
    "#vector\n",
    "vector = np.array([1,2,3])\n",
    "print('Vector:',vector)\n",
    "\n",
    "#Matrix\n",
    "matrix = np.array([[1,2],[67,98]])\n",
    "print(\"Matrix:\",matrix)\n",
    "\n",
    "# Tensor (e.g., a 3D tensor with shape (2, 2, 3))\n",
    "tensor = np.array([\n",
    "    [[1,2,3],[13,14,15]],\n",
    "    [[4,5,6],[17,18,19]]\n",
    "])\n",
    "print(\"Tensor:\",tensor)"
   ]
  },
  {
   "cell_type": "markdown",
   "id": "0b243a0c-76ff-44ce-b931-74c01b9ea892",
   "metadata": {},
   "source": [
    "# 2. Types of Matrices\n"
   ]
  },
  {
   "cell_type": "markdown",
   "id": "f329f69d-5800-40c8-8a57-3fe0161111ff",
   "metadata": {},
   "source": [
    "Square Matrix: A matrix with the same number of rows and columns.\n",
    "\n",
    "Diagonal Matrix: A square matrix where all elements except those on the main diagonal are zero.\n",
    "\n",
    "Identity Matrix: A diagonal matrix with ones on the main diagonal and zeros elsewhere. It’s often denoted as I.\n",
    "\n",
    "Symmetric Matrix: A square matrix that is equal to its transpose, i.e., 𝐴=𝐴^𝑇."
   ]
  },
  {
   "cell_type": "code",
   "execution_count": 6,
   "id": "27800d0c-4593-445f-b936-f66a840af58a",
   "metadata": {},
   "outputs": [
    {
     "name": "stdout",
     "output_type": "stream",
     "text": [
      "Square Matrix: [[1 2]\n",
      " [3 4]]\n",
      "Diagonal MAtrix: [[5 0]\n",
      " [0 8]]\n",
      "Identity Matrix: [[1. 0.]\n",
      " [0. 1.]]\n",
      "Symmetric Matrix: [[2 3]\n",
      " [3 2]]\n"
     ]
    }
   ],
   "source": [
    "# Square Matrix\n",
    "square_matrix =np.array([[1,2],[3,4]])\n",
    "print(\"Square Matrix:\",square_matrix)\n",
    "\n",
    "#Diagonal Matrixx\n",
    "diagonal_matrix=np.diag([5,8])\n",
    "print(\"Diagonal MAtrix:\",diagonal_matrix)\n",
    "\n",
    "#Identity Matrix(2x2)\n",
    "identity_matrix = np.eye(2)\n",
    "print(\"Identity Matrix:\",identity_matrix)\n",
    "\n",
    "#Symmetric Matrix\n",
    "symmetric_matrix = np.array([[2,3],[3,2]])\n",
    "print(\"Symmetric Matrix:\",symmetric_matrix)"
   ]
  },
  {
   "cell_type": "markdown",
   "id": "1451edbf-54b4-4cae-9a20-2a8f62613b68",
   "metadata": {},
   "source": [
    "# 3. Matrix and Vector Notations"
   ]
  },
  {
   "cell_type": "markdown",
   "id": "889c478c-2320-46bb-80d6-ab022aab59b3",
   "metadata": {},
   "source": [
    "Vectors : are usually denoted in lowercase bold letters like v, and each element within a vector can be accessed by vi.\n",
    "\n",
    "Matrices : are typically represented in uppercase bold letters, such as A, and elements are accessed with two indices, Ai,j.\n",
    "\n"
   ]
  },
  {
   "cell_type": "code",
   "execution_count": 11,
   "id": "cb053ef4-45b3-4f72-8f71-196c7654dabf",
   "metadata": {},
   "outputs": [
    {
     "name": "stdout",
     "output_type": "stream",
     "text": [
      "Vector Notation v:\n",
      " [ 5 -1  3]\n",
      "Type: <class 'numpy.ndarray'>\n",
      "Vector Size: 3\n",
      "Vector Shape: (3,)\n",
      "Accessing Element v[1]: -1\n",
      "\n",
      "Marix Notaion: [[45 65]\n",
      " [22 33]]\n",
      "Type: <class 'numpy.ndarray'>\n",
      "Matrix Size: 4\n",
      "Matrix Shape: (2, 2)\n",
      "Accessing element A[1,1]: 33\n"
     ]
    }
   ],
   "source": [
    "# Vector notation (1D array)\n",
    "vector_notation = np.array([5,-1,3])\n",
    "print(\"Vector Notation v:\\n\",vector_notation)\n",
    "print('Type:',type(vector_notation))\n",
    "print('Vector Size:',vector_notation.size)\n",
    "print('Vector Shape:',vector_notation.shape)\n",
    "print(\"Accessing Element v[1]:\",vector_notation[1])\n",
    "\n",
    "# Matrix notation (2D array)\n",
    "matrix_notation = np.array([[45,65],[22,33]])\n",
    "print(\"\\nMarix Notaion:\",matrix_notation)\n",
    "print('Type:',type(matrix_notation))\n",
    "print('Matrix Size:',matrix_notation.size)\n",
    "print('Matrix Shape:',matrix_notation.shape)\n",
    "print(\"Accessing element A[1,1]:\",matrix_notation[1,1])\n"
   ]
  },
  {
   "cell_type": "code",
   "execution_count": null,
   "id": "813a9100-f64e-4325-9282-5051174165e5",
   "metadata": {},
   "outputs": [],
   "source": []
  }
 ],
 "metadata": {
  "kernelspec": {
   "display_name": "Python 3 (ipykernel)",
   "language": "python",
   "name": "python3"
  },
  "language_info": {
   "codemirror_mode": {
    "name": "ipython",
    "version": 3
   },
   "file_extension": ".py",
   "mimetype": "text/x-python",
   "name": "python",
   "nbconvert_exporter": "python",
   "pygments_lexer": "ipython3",
   "version": "3.11.7"
  }
 },
 "nbformat": 4,
 "nbformat_minor": 5
}
